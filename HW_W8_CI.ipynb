{
 "cells": [
  {
   "cell_type": "markdown",
   "metadata": {
    "deletable": false,
    "editable": false,
    "nbgrader": {
     "cell_type": "markdown",
     "checksum": "20ca45b9bff14c61f7d0657a66e96b88",
     "grade": false,
     "grade_id": "cell-3602347a0b182c2e",
     "locked": true,
     "schema_version": 3,
     "solution": false,
     "task": false
    }
   },
   "source": [
    "<center>\n",
    "<img src=\"logo.png\" height=\"900\"> \n",
    "</center>\n",
    "\n",
    "\n",
    "# Контрольная работа :)"
   ]
  },
  {
   "cell_type": "code",
   "execution_count": 1,
   "metadata": {},
   "outputs": [],
   "source": [
    "import numpy as np\n",
    "import pandas as pd\n",
    "\n",
    "from scipy import stats\n",
    "\n",
    "import seaborn as sns\n",
    "import matplotlib.pyplot as plt\n",
    "\n",
    "plt.style.use('ggplot') # стиль для графиков\n",
    "%matplotlib inline"
   ]
  },
  {
   "cell_type": "markdown",
   "metadata": {
    "deletable": false,
    "editable": false,
    "nbgrader": {
     "cell_type": "markdown",
     "checksum": "43f7f429f44d154d6c72b7b236254c08",
     "grade": false,
     "grade_id": "cell-be89eebcb2f6ec8c",
     "locked": true,
     "schema_version": 3,
     "solution": false,
     "task": false
    }
   },
   "source": [
    "В файле `cr.csv` лежат результаты контрольной работы, которая проводилась в Вышке на факультете \"Э\".  По мнению студентов эти оценки смещённые, несостоятельные и ужасно неэффективные. Но это уже совершенно другая история. Подгрузим файлик и посмотрим на него!  "
   ]
  },
  {
   "cell_type": "code",
   "execution_count": 2,
   "metadata": {},
   "outputs": [
    {
     "name": "stdout",
     "output_type": "stream",
     "text": [
      "(389, 20)\n"
     ]
    },
    {
     "data": {
      "text/html": [
       "<div>\n",
       "<style scoped>\n",
       "    .dataframe tbody tr th:only-of-type {\n",
       "        vertical-align: middle;\n",
       "    }\n",
       "\n",
       "    .dataframe tbody tr th {\n",
       "        vertical-align: top;\n",
       "    }\n",
       "\n",
       "    .dataframe thead th {\n",
       "        text-align: right;\n",
       "    }\n",
       "</style>\n",
       "<table border=\"1\" class=\"dataframe\">\n",
       "  <thead>\n",
       "    <tr style=\"text-align: right;\">\n",
       "      <th></th>\n",
       "      <th>contest_login</th>\n",
       "      <th>fraud</th>\n",
       "      <th>k1a</th>\n",
       "      <th>k1b</th>\n",
       "      <th>k1c</th>\n",
       "      <th>k1d</th>\n",
       "      <th>k1e</th>\n",
       "      <th>k1f</th>\n",
       "      <th>k1</th>\n",
       "      <th>k2a</th>\n",
       "      <th>k2b</th>\n",
       "      <th>k2c</th>\n",
       "      <th>k2d</th>\n",
       "      <th>k2e</th>\n",
       "      <th>k2f</th>\n",
       "      <th>k2</th>\n",
       "      <th>k3a</th>\n",
       "      <th>k3b</th>\n",
       "      <th>k3c</th>\n",
       "      <th>k3</th>\n",
       "    </tr>\n",
       "  </thead>\n",
       "  <tbody>\n",
       "    <tr>\n",
       "      <th>0</th>\n",
       "      <td>eds_python_2020_1</td>\n",
       "      <td>0.0</td>\n",
       "      <td>10.0</td>\n",
       "      <td>10.0</td>\n",
       "      <td>20.0</td>\n",
       "      <td>30.0</td>\n",
       "      <td>4.0</td>\n",
       "      <td>22.0</td>\n",
       "      <td>10.1</td>\n",
       "      <td>20.0</td>\n",
       "      <td>10.0</td>\n",
       "      <td>20.0</td>\n",
       "      <td>20.0</td>\n",
       "      <td>20.0</td>\n",
       "      <td>20.0</td>\n",
       "      <td>11.0</td>\n",
       "      <td>35.0</td>\n",
       "      <td>0.0</td>\n",
       "      <td>27.0</td>\n",
       "      <td>6.2</td>\n",
       "    </tr>\n",
       "    <tr>\n",
       "      <th>1</th>\n",
       "      <td>eds_python_2020_2</td>\n",
       "      <td>1.0</td>\n",
       "      <td>9.0</td>\n",
       "      <td>10.0</td>\n",
       "      <td>20.0</td>\n",
       "      <td>NaN</td>\n",
       "      <td>16.0</td>\n",
       "      <td>12.0</td>\n",
       "      <td>6.7</td>\n",
       "      <td>NaN</td>\n",
       "      <td>5.0</td>\n",
       "      <td>NaN</td>\n",
       "      <td>20.0</td>\n",
       "      <td>20.0</td>\n",
       "      <td>20.0</td>\n",
       "      <td>6.5</td>\n",
       "      <td>35.0</td>\n",
       "      <td>29.0</td>\n",
       "      <td>22.0</td>\n",
       "      <td>8.6</td>\n",
       "    </tr>\n",
       "    <tr>\n",
       "      <th>2</th>\n",
       "      <td>eds_python_2020_3</td>\n",
       "      <td>0.0</td>\n",
       "      <td>2.0</td>\n",
       "      <td>10.0</td>\n",
       "      <td>20.0</td>\n",
       "      <td>NaN</td>\n",
       "      <td>20.0</td>\n",
       "      <td>30.0</td>\n",
       "      <td>8.2</td>\n",
       "      <td>20.0</td>\n",
       "      <td>5.0</td>\n",
       "      <td>NaN</td>\n",
       "      <td>20.0</td>\n",
       "      <td>20.0</td>\n",
       "      <td>20.0</td>\n",
       "      <td>8.5</td>\n",
       "      <td>28.0</td>\n",
       "      <td>2.0</td>\n",
       "      <td>0.0</td>\n",
       "      <td>3.0</td>\n",
       "    </tr>\n",
       "    <tr>\n",
       "      <th>3</th>\n",
       "      <td>eds_python_2020_4</td>\n",
       "      <td>1.0</td>\n",
       "      <td>10.0</td>\n",
       "      <td>10.0</td>\n",
       "      <td>20.0</td>\n",
       "      <td>NaN</td>\n",
       "      <td>16.0</td>\n",
       "      <td>14.0</td>\n",
       "      <td>7.0</td>\n",
       "      <td>20.0</td>\n",
       "      <td>10.0</td>\n",
       "      <td>NaN</td>\n",
       "      <td>20.0</td>\n",
       "      <td>20.0</td>\n",
       "      <td>20.0</td>\n",
       "      <td>9.0</td>\n",
       "      <td>30.0</td>\n",
       "      <td>38.0</td>\n",
       "      <td>0.0</td>\n",
       "      <td>6.8</td>\n",
       "    </tr>\n",
       "    <tr>\n",
       "      <th>4</th>\n",
       "      <td>eds_python_2020_5</td>\n",
       "      <td>2.0</td>\n",
       "      <td>10.0</td>\n",
       "      <td>10.0</td>\n",
       "      <td>12.0</td>\n",
       "      <td>0.0</td>\n",
       "      <td>16.0</td>\n",
       "      <td>22.0</td>\n",
       "      <td>7.0</td>\n",
       "      <td>20.0</td>\n",
       "      <td>10.0</td>\n",
       "      <td>NaN</td>\n",
       "      <td>20.0</td>\n",
       "      <td>20.0</td>\n",
       "      <td>20.0</td>\n",
       "      <td>9.0</td>\n",
       "      <td>0.0</td>\n",
       "      <td>0.0</td>\n",
       "      <td>0.0</td>\n",
       "      <td>0.0</td>\n",
       "    </tr>\n",
       "  </tbody>\n",
       "</table>\n",
       "</div>"
      ],
      "text/plain": [
       "       contest_login  fraud   k1a   k1b   k1c   k1d   k1e   k1f    k1   k2a  \\\n",
       "0  eds_python_2020_1    0.0  10.0  10.0  20.0  30.0   4.0  22.0  10.1  20.0   \n",
       "1  eds_python_2020_2    1.0   9.0  10.0  20.0   NaN  16.0  12.0   6.7   NaN   \n",
       "2  eds_python_2020_3    0.0   2.0  10.0  20.0   NaN  20.0  30.0   8.2  20.0   \n",
       "3  eds_python_2020_4    1.0  10.0  10.0  20.0   NaN  16.0  14.0   7.0  20.0   \n",
       "4  eds_python_2020_5    2.0  10.0  10.0  12.0   0.0  16.0  22.0   7.0  20.0   \n",
       "\n",
       "    k2b   k2c   k2d   k2e   k2f    k2   k3a   k3b   k3c   k3  \n",
       "0  10.0  20.0  20.0  20.0  20.0  11.0  35.0   0.0  27.0  6.2  \n",
       "1   5.0   NaN  20.0  20.0  20.0   6.5  35.0  29.0  22.0  8.6  \n",
       "2   5.0   NaN  20.0  20.0  20.0   8.5  28.0   2.0   0.0  3.0  \n",
       "3  10.0   NaN  20.0  20.0  20.0   9.0  30.0  38.0   0.0  6.8  \n",
       "4  10.0   NaN  20.0  20.0  20.0   9.0   0.0   0.0   0.0  0.0  "
      ]
     },
     "execution_count": 2,
     "metadata": {},
     "output_type": "execute_result"
    }
   ],
   "source": [
    "df = pd.read_csv('cr.csv', sep='\\t')\n",
    "print(df.shape)\n",
    "df.head()"
   ]
  },
  {
   "cell_type": "markdown",
   "metadata": {
    "deletable": false,
    "editable": false,
    "nbgrader": {
     "cell_type": "markdown",
     "checksum": "a6395cc2bcb2b3158b507c44ba141615",
     "grade": false,
     "grade_id": "cell-0fa267ffee2624a4",
     "locked": true,
     "schema_version": 3,
     "solution": false,
     "task": false
    }
   },
   "source": [
    "__Описание колонок:__\n",
    "\n",
    "\n",
    "* `contest_login` - уникальный идентификатор студента\n",
    "* `fraud` - в списывании скольки задач был уличён студент \n",
    "* `k1` - результат за первую контрольную, `k1a - k1f` в разбивке по задачам\n",
    "* `k2` - результат за вторую контрольную, `k2a - k2f` в разбивке по задачам\n",
    "* `k3` - результат за третью контрольную, `k3a - k3с` в разбивке по задачам"
   ]
  },
  {
   "cell_type": "markdown",
   "metadata": {
    "deletable": false,
    "editable": false,
    "nbgrader": {
     "cell_type": "markdown",
     "checksum": "a609f2701de2c58fb402623ada75f2d6",
     "grade": false,
     "grade_id": "cell-12cb86d2c52c88ee",
     "locked": true,
     "schema_version": 3,
     "solution": false,
     "task": false
    }
   },
   "source": [
    "__а) Распределение результатов контрольной__ \n",
    "\n",
    "- Запишите все оценки за первую контрольную в переменную `x`, все пропуски удалите\n",
    "- Найдите среднее и стандартное отклонение (используйте несмещённую оценку) \n",
    "- Постройте гистограмму результатов за первую контрольную \n",
    "- На этой же картинке постройте плотность нормального распределения со средним и стандартным отклонением, посчитанными выше\n",
    "\n",
    "Похоже ли эмпирическое распределение на нормальное? "
   ]
  },
  {
   "cell_type": "code",
   "execution_count": 6,
   "metadata": {
    "deletable": false,
    "nbgrader": {
     "cell_type": "code",
     "checksum": "04205b8269710e3852ef0ef2ec0c8bd5",
     "grade": false,
     "grade_id": "cell-4caa86c30a9f3dab",
     "locked": false,
     "schema_version": 3,
     "solution": true,
     "task": false
    }
   },
   "outputs": [
    {
     "data": {
      "image/png": "[encoded data removed]",
      "text/plain": [
       "<Figure size 432x288 with 1 Axes>"
      ]
     },
     "metadata": {
      "needs_background": "light"
     },
     "output_type": "display_data"
    }
   ],
   "source": [
    "### ╰( ͡° ͜ʖ ͡° )つ▬▬ι═══════  bzzzzzzzzzz\n",
    "# will the code be with you\n",
    "\n",
    "x = df.k1.dropna().values\n",
    "\n",
    "x_mean = x.mean()\n",
    "x_std = x.std(ddof=1)\n",
    "plt.hist(x, bins=30, density=True);\n",
    "\n",
    "xs = np.linspace(0, 12, 300)\n",
    "ys = stats.norm(loc=x_mean, scale=x_std).pdf(xs)\n",
    "plt.plot(xs, ys, color=\"black\");\n",
    "\n",
    "# your code here\n"
   ]
  },
  {
   "cell_type": "code",
   "execution_count": 7,
   "metadata": {
    "deletable": false,
    "editable": false,
    "nbgrader": {
     "cell_type": "code",
     "checksum": "3ff1917b94e62866efaa8363e004bf67",
     "grade": true,
     "grade_id": "cell-188c6da24aeaf801",
     "locked": true,
     "points": 1,
     "schema_version": 3,
     "solution": false,
     "task": false
    }
   },
   "outputs": [],
   "source": [
    "# проверка, что среднее и стандартное откланение посчитаны корректно\n",
    "assert np.abs(x_mean - 5.4478149100) < 1e-5\n",
    "\n",
    "# похожие тесты на другие части задания скрыты от вас\n"
   ]
  },
  {
   "cell_type": "markdown",
   "metadata": {
    "deletable": false,
    "editable": false,
    "nbgrader": {
     "cell_type": "markdown",
     "checksum": "0eb5d3cee661fe63afa59b5828a76ebe",
     "grade": false,
     "grade_id": "cell-3ae3a6b4603b4e78",
     "locked": true,
     "schema_version": 3,
     "solution": false,
     "task": false
    }
   },
   "source": [
    "По аналогии с тем, как это было сделано на лекции, проверьте с помощью теста Колмогорова-Смирнова гипотезу о нормальности: \n",
    "\n",
    "- Используйте функцию `kstest` из пакета `scipy`\n",
    "- С помощью `.pvalue` вытащите из результатов теста p-значение, запишите его в переменную `pvalue`\n",
    "- По аналогии запишите в `K` значение статистики Колмогорова\n",
    "- Если p-значение оказалось больше $0.05$, гипотеза о нормальности данных не отвергается, и мы можем дальше использовать эту предпосылку"
   ]
  },
  {
   "cell_type": "code",
   "execution_count": 8,
   "metadata": {
    "deletable": false,
    "nbgrader": {
     "cell_type": "code",
     "checksum": "50486aafcbdbbf6ce11745ee37673006",
     "grade": false,
     "grade_id": "cell-69e2fa22be264f6f",
     "locked": false,
     "schema_version": 3,
     "solution": true,
     "task": false
    }
   },
   "outputs": [
    {
     "name": "stdout",
     "output_type": "stream",
     "text": [
      "Значение статистики Колмогорова 0.051247, р-значение 0.25001\n"
     ]
    }
   ],
   "source": [
    "### ╰( ͡° ͜ʖ ͡° )つ▬▬ι═══════  bzzzzzzzzzz\n",
    "# will the code be with you\n",
    "\n",
    "pvalue = stats.kstest(df.k1, 'norm', args=(x_mean, x_std))[1]\n",
    "K = stats.kstest(df.k1, 'norm', args=(x_mean, x_std))[0]\n",
    "\n",
    "print(\"Значение статистики Колмогорова {:.5}, р-значение {:.5}\".format(K, pvalue))\n",
    "# your code here\n"
   ]
  },
  {
   "cell_type": "markdown",
   "metadata": {},
   "source": [
    "__Так р-значение > 0.05, гипотеза о нормальности данных не отвергается__"
   ]
  },
  {
   "cell_type": "code",
   "execution_count": 9,
   "metadata": {
    "deletable": false,
    "editable": false,
    "nbgrader": {
     "cell_type": "code",
     "checksum": "585101e0939743c4d976b2f492a30960",
     "grade": true,
     "grade_id": "cell-447597c99551cd8a",
     "locked": true,
     "points": 1,
     "schema_version": 3,
     "solution": false,
     "task": false
    }
   },
   "outputs": [],
   "source": [
    "# проверка, что pvalue найдено корректно\n",
    "assert np.abs(K - 0.051247) < 1e-5\n",
    "\n",
    "# похожие тесты на другие части задания скрыты от вас\n"
   ]
  },
  {
   "cell_type": "markdown",
   "metadata": {
    "deletable": false,
    "editable": false,
    "nbgrader": {
     "cell_type": "markdown",
     "checksum": "73238ad01c1a0a12f9a77d0bfa6b3e06",
     "grade": false,
     "grade_id": "cell-8ebc6cda31688260",
     "locked": true,
     "schema_version": 3,
     "solution": false,
     "task": false
    }
   },
   "source": [
    "Предположим невероятное! А именно, независимость и одинаковую распределённость наших наблюдений (никто не списывал контрольную друг у друга)."
   ]
  },
  {
   "cell_type": "markdown",
   "metadata": {
    "deletable": false,
    "editable": false,
    "nbgrader": {
     "cell_type": "markdown",
     "checksum": "8f76e098fcb040b85147b0f3426470d5",
     "grade": false,
     "grade_id": "cell-fb3d48dd25fb1f07",
     "locked": true,
     "schema_version": 3,
     "solution": false,
     "task": false
    }
   },
   "source": [
    "__б) Интервал для среднего.__ \n",
    "\n",
    "Постройте точный $95\\%$-й доверительный интервал для ожидамоего результата за первую контрольную. В качестве оценки стандартного отклонения используйте несмещённый вариант, `ddof=1`. В переменные `left` и `right` запишите границы получившегося интервала. В переменную `delta` его ширину. "
   ]
  },
  {
   "cell_type": "code",
   "execution_count": 12,
   "metadata": {
    "deletable": false,
    "nbgrader": {
     "cell_type": "code",
     "checksum": "70eb28b4aaeb46af2f9696cd4f691f2f",
     "grade": false,
     "grade_id": "cell-9e40f504dc8a1f04",
     "locked": false,
     "schema_version": 3,
     "solution": true,
     "task": false
    }
   },
   "outputs": [
    {
     "name": "stdout",
     "output_type": "stream",
     "text": [
      "Доверительный интервал [5.132; 5.763] ширины 0.6307\n"
     ]
    }
   ],
   "source": [
    "### ╰( ͡° ͜ʖ ͡° )つ▬▬ι═══════  bzzzzzzzzzz\n",
    "# will the code be with you\n",
    "\n",
    "alpha = 0.05\n",
    "n = x.size\n",
    "left = stats.t.interval(1-alpha, df=(n-1), loc=x_mean, scale=x_std/np.sqrt(n))[0]\n",
    "right = stats.t.interval(1-alpha, df=(n-1), loc=x_mean, scale=x_std/np.sqrt(n))[1]\n",
    "delta = right-left\n",
    "\n",
    "print(\"Доверительный интервал [{:.4}; {:.4}] ширины {:.4}\".format(left, right, delta))\n",
    "\n",
    "# your code here\n"
   ]
  },
  {
   "cell_type": "code",
   "execution_count": 13,
   "metadata": {
    "deletable": false,
    "editable": false,
    "nbgrader": {
     "cell_type": "code",
     "checksum": "a7bcae5e85f2a9fdc2d47a4723ff8bcc",
     "grade": true,
     "grade_id": "cell-c42aece4c34d6d52",
     "locked": true,
     "points": 1,
     "schema_version": 3,
     "solution": false,
     "task": false
    }
   },
   "outputs": [],
   "source": [
    "# проверка, что границы доверительного интервала найдены верно\n",
    "assert np.abs(left - 5.13247213744281) < 1e-5\n",
    "\n",
    "# похожие тесты на другие части задания скрыты от вас\n"
   ]
  },
  {
   "cell_type": "markdown",
   "metadata": {
    "deletable": false,
    "editable": false,
    "nbgrader": {
     "cell_type": "markdown",
     "checksum": "c0e10ef4b641d40f0c88c89c8e1261fc",
     "grade": false,
     "grade_id": "cell-c8cb65b81fd4f4fe",
     "locked": true,
     "schema_version": 3,
     "solution": false,
     "task": false
    }
   },
   "source": [
    "__в) Ангелы и демоны__\n",
    "\n",
    "Переменная`fraud` - в списывании скольки задач был уличён студент. Разобьём наши наблюдения на две группы: Ангелы и Демоны. У Ангелов `fraud == 0`, у Демонов `fraud > 0`. \n",
    "\n",
    "Запишите оценки за первую контрольную для ангелов в переменную `angels`, для демонов в `demons`. Все пропуски из выборки удалите. Постройте на общем фоне гистограмму распределения оценок за первую контрольную у Ангелов и Демонов. "
   ]
  },
  {
   "cell_type": "code",
   "execution_count": 14,
   "metadata": {
    "deletable": false,
    "nbgrader": {
     "cell_type": "code",
     "checksum": "6c0b23dd967a4f205f44779962b2a42b",
     "grade": false,
     "grade_id": "cell-c0be9e8dcdcc6943",
     "locked": false,
     "schema_version": 3,
     "solution": true,
     "task": false
    }
   },
   "outputs": [
    {
     "data": {
      "image/png": "[encoded data removed]",
      "text/plain": [
       "<Figure size 432x288 with 1 Axes>"
      ]
     },
     "metadata": {
      "needs_background": "light"
     },
     "output_type": "display_data"
    }
   ],
   "source": [
    "### ╰( ͡° ͜ʖ ͡° )つ▬▬ι═══════  bzzzzzzzzzz\n",
    "# will the code be with you\n",
    "\n",
    "angels = df[df.fraud == 0.0].k1.dropna().values\n",
    "demons = df[df.fraud > 0.0].k1.dropna().values\n",
    "\n",
    "plt.hist(demons,alpha=0.3, label='Demons');\n",
    "plt.hist(angels,alpha=0.3, label='Angels');\n",
    "plt.legend();\n",
    "\n",
    "# your code here\n"
   ]
  },
  {
   "cell_type": "code",
   "execution_count": 15,
   "metadata": {
    "deletable": false,
    "editable": false,
    "nbgrader": {
     "cell_type": "code",
     "checksum": "5eaa66ef7fd354bd1b43f0bd0fbd6102",
     "grade": true,
     "grade_id": "cell-325feda5583e0804",
     "locked": true,
     "points": 1,
     "schema_version": 3,
     "solution": false,
     "task": false
    }
   },
   "outputs": [],
   "source": [
    "# проверка того, сколько в выборке оказалось ангелов и демонов\n",
    "assert len(angels) == 109\n",
    "\n",
    "# похожие тесты на другие части задания скрыты от вас\n"
   ]
  },
  {
   "cell_type": "markdown",
   "metadata": {
    "deletable": false,
    "editable": false,
    "nbgrader": {
     "cell_type": "markdown",
     "checksum": "0fdb96345d0a8b195881a90b068e23c0",
     "grade": false,
     "grade_id": "cell-0c028b3ac8a73ac4",
     "locked": true,
     "schema_version": 3,
     "solution": false,
     "task": false
    }
   },
   "source": [
    "__г) Интервал для разницы средних__ \n",
    "\n",
    "Постройте примерный $95\\%$-й доверительный интервал для разницы ожидаемого результата за первую контрольную у Ангелов и Демонов без предположения о равенстве дисперсий (интервал Уэлча). Для оценки всех дисперсий используйте несмещённый вариант. Заполните все переменные, перечисленные ниже. "
   ]
  },
  {
   "cell_type": "code",
   "execution_count": 16,
   "metadata": {
    "deletable": false,
    "nbgrader": {
     "cell_type": "code",
     "checksum": "2328767bd68116cdbc607d64c62f1708",
     "grade": false,
     "grade_id": "cell-3f035845607657b9",
     "locked": false,
     "schema_version": 3,
     "solution": true,
     "task": false
    }
   },
   "outputs": [
    {
     "name": "stdout",
     "output_type": "stream",
     "text": [
      "Доверительный интервал [-0.8046; 0.547] ширины 1.352\n"
     ]
    }
   ],
   "source": [
    "### ╰( ͡° ͜ʖ ͡° )つ▬▬ι═══════  bzzzzzzzzzz\n",
    "# will the code be with you\n",
    "\n",
    "diff = angels.mean() - demons.mean()\n",
    "nx, ny = angels.size, demons.size\n",
    "diff_sd = np.sqrt(angels.var(ddof=1)/nx + demons.var(ddof=1)/ny)\n",
    "u = (angels.var(ddof=1) / nx + demons.var(ddof=1) / ny) ** 2\n",
    "d = (angels.var(ddof=1)**2) / (nx**2 * (nx - 1)) + (demons.var(ddof=1)**2)/ (ny**2* (ny - 1))\n",
    "\n",
    "# число степеней свободы в распределении Стьюдента  \n",
    "nu =  u/d\n",
    "# левая граница интервала\n",
    "left = stats.t.interval(0.95, df=nu, loc=diff, scale=diff_sd)[0]\n",
    "# правая граница интервала\n",
    "right = stats.t.interval(0.95, df=nu, loc=diff, scale=diff_sd)[1]\n",
    "# ширина интервала\n",
    "delta = right - left\n",
    "\n",
    "print(\"Доверительный интервал [{:.4}; {:.4}] ширины {:.4}\".format(left, right, delta))\n",
    "\n",
    "# your code here\n"
   ]
  },
  {
   "cell_type": "code",
   "execution_count": 17,
   "metadata": {
    "deletable": false,
    "editable": false,
    "nbgrader": {
     "cell_type": "code",
     "checksum": "62f8fa99b2fb73511c4ddc4c63277b34",
     "grade": true,
     "grade_id": "cell-59bb7c6ce3e23ce7",
     "locked": true,
     "points": 2,
     "schema_version": 3,
     "solution": false,
     "task": false
    }
   },
   "outputs": [],
   "source": [
    "# проверка, что границы доверительного интервала найдены верно\n",
    "assert np.abs(left + 0.8045581262764373) < 1e-5\n",
    "\n",
    "# похожие тесты на другие части задания скрыты от вас\n"
   ]
  },
  {
   "cell_type": "markdown",
   "metadata": {
    "deletable": false,
    "editable": false,
    "nbgrader": {
     "cell_type": "markdown",
     "checksum": "6e25be1a6ef849cbf62ea4a3996214bc",
     "grade": false,
     "grade_id": "cell-66a3e9ada3ad850a",
     "locked": true,
     "schema_version": 3,
     "solution": false,
     "task": false
    }
   },
   "source": [
    "Входит ли в получившийся доверительный интервал ноль? Как думаете, что это означает? "
   ]
  },
  {
   "cell_type": "markdown",
   "metadata": {},
   "source": [
    "__Ноль входит в данный интервал. Следовательно, гипотеза о равенстве средних не отвергается.__\n"
   ]
  },
  {
   "cell_type": "markdown",
   "metadata": {
    "deletable": false,
    "editable": false,
    "nbgrader": {
     "cell_type": "markdown",
     "checksum": "063bd8b6e45cccc3e8cae735b5ff739a",
     "grade": false,
     "grade_id": "cell-0d191b73acb7ee38",
     "locked": true,
     "schema_version": 3,
     "solution": false,
     "task": false
    }
   },
   "source": [
    "__д) Интервал для дисперсии__ \n",
    "\n",
    "Предположим, что математическое ожидание результата за контрольную зависит от уровня подготовки, а дисперсия результата — от нервов. Постройте для отношения нервозности Демонов и Ангелов $95\\%$ доверительный интервал. Для оценки всех дисперсий используйте несмещённый вариант. "
   ]
  },
  {
   "cell_type": "code",
   "execution_count": 18,
   "metadata": {
    "deletable": false,
    "nbgrader": {
     "cell_type": "code",
     "checksum": "8ea1121c2ed8a94df21d96016401ccb1",
     "grade": false,
     "grade_id": "cell-8dae4d42e098b2a2",
     "locked": false,
     "schema_version": 3,
     "solution": true,
     "task": false
    }
   },
   "outputs": [
    {
     "name": "stdout",
     "output_type": "stream",
     "text": [
      "Доверительный интервал [0.61204; 1.1624] ширины 0.55034\n"
     ]
    }
   ],
   "source": [
    "### ╰( ͡° ͜ʖ ͡° )つ▬▬ι═══════  bzzzzzzzzzz\n",
    "# will the code be with you\n",
    "\n",
    "alpha = 0.05\n",
    "\n",
    "n, m = angels.size - 1, demons.size - 1\n",
    "sn, sm = angels.var(ddof=1), demons.var(ddof=1)\n",
    "\n",
    "left =  sm / sn * stats.f(n, m).ppf(alpha/2)     # левая граница интервала\n",
    "right = sm / sn * stats.f(n, m).ppf(1 - alpha/2)     # правая граница интервала\n",
    "delta = right - left     # ширина интервала\n",
    "\n",
    "print(\"Доверительный интервал [{:.5}; {:.5}] ширины {:.5}\".format(left, right, right - left))\n",
    "\n",
    "# your code here\n"
   ]
  },
  {
   "cell_type": "code",
   "execution_count": 19,
   "metadata": {
    "deletable": false,
    "editable": false,
    "nbgrader": {
     "cell_type": "code",
     "checksum": "f83b5b1cc445e7b6350148d0a4740c64",
     "grade": true,
     "grade_id": "cell-febf3991d9995f7a",
     "locked": true,
     "points": 1,
     "schema_version": 3,
     "solution": false,
     "task": false
    }
   },
   "outputs": [],
   "source": [
    "# проверка, что границы доверительного интервала найдены верно\n",
    "assert np.abs(left - 0.6120428247687726) < 1e-5\n",
    "\n",
    "# похожие тесты на другие части задания скрыты от вас\n"
   ]
  },
  {
   "cell_type": "markdown",
   "metadata": {
    "deletable": false,
    "editable": false,
    "nbgrader": {
     "cell_type": "markdown",
     "checksum": "35287e8c0aaa3c65baeb855d439e24f1",
     "grade": false,
     "grade_id": "cell-c10fcf23f98971bb",
     "locked": true,
     "schema_version": 3,
     "solution": false,
     "task": false
    }
   },
   "source": [
    "Вошла ли в доверительный интервал единица? Как думаете, что это означает? "
   ]
  },
  {
   "cell_type": "markdown",
   "metadata": {},
   "source": [
    "__Единица входит в доверительный интервал. Следовательно, гипотеза о равенстве дисперсий не отвергается.__"
   ]
  },
  {
   "cell_type": "markdown",
   "metadata": {
    "deletable": false,
    "editable": false,
    "nbgrader": {
     "cell_type": "markdown",
     "checksum": "ae95060e4a23bc109c2fdc3ed5cbd9ec",
     "grade": false,
     "grade_id": "cell-ccc6bfa3d204c0f2",
     "locked": true,
     "schema_version": 3,
     "solution": false,
     "task": false
    }
   },
   "source": [
    "__е) Ангелы и демоны решают задачки__ \n",
    "\n",
    "Нарисуйте картинку для корреляционной матрицы по задачам первой контрольной для всех наблюдений, отдельно для Ангелов и Демонов. Пропуски заполните нулями. Будем считать, что если у студента нет оценки, он не выполнял это задание. Для подсчёта корреляций используйте метод `.corr`. Для отрисовки матриц функцию `heatmap` из пакета `seaborn`. Для ангелов неплохо подойдёт цветовая схема `YlGnBu`. Для демонов подходит схема `gist_heat_r`."
   ]
  },
  {
   "cell_type": "code",
   "execution_count": 20,
   "metadata": {
    "deletable": false,
    "nbgrader": {
     "cell_type": "code",
     "checksum": "66d170dacef5856b3ee90336f7989e09",
     "grade": false,
     "grade_id": "cell-f841ee7c14086e18",
     "locked": false,
     "schema_version": 3,
     "solution": true,
     "task": false
    }
   },
   "outputs": [
    {
     "data": {
      "image/png": "[encoded data removed]",
      "text/plain": [
       "<Figure size 864x864 with 2 Axes>"
      ]
     },
     "metadata": {},
     "output_type": "display_data"
    }
   ],
   "source": [
    "### ╰( ͡° ͜ʖ ͡° )つ▬▬ι═══════  bzzzzzzzzzz\n",
    "# will the code be with you\n",
    "\n",
    "tasks = ['k1a', 'k1b', 'k1c', 'k1d', 'k1e', 'k1f']\n",
    "\n",
    "sns.set(font_scale=1.3)\n",
    "\n",
    "fig, ax =plt.subplots(1,2,figsize=(12, 12))\n",
    "\n",
    "sns.heatmap(df[df.fraud == 0.0][tasks].fillna(0).corr(method='pearson'), square=True,\n",
    "            annot=True, fmt=\".2f\", linewidths=0.1, cmap=\"YlGnBu\",cbar=False,ax=ax[0]);\n",
    "ax[0].set_title('Angels');\n",
    "sns.heatmap(df[df.fraud > 0.0][tasks].fillna(0).corr(method='pearson'), square=True,\n",
    "           annot=True, fmt=\".2f\", linewidths=0.1, cmap=\"gist_heat_r\", cbar=False, ax=ax[1]);\n",
    "ax[1].set_title('Demons');\n",
    "\n",
    "# your code here\n"
   ]
  },
  {
   "cell_type": "markdown",
   "metadata": {
    "deletable": false,
    "editable": false,
    "nbgrader": {
     "cell_type": "markdown",
     "checksum": "10c0c590e2bfadab933281d130dc1c9d",
     "grade": false,
     "grade_id": "cell-29626c8b8ffd6af1",
     "locked": true,
     "schema_version": 3,
     "solution": false,
     "task": false
    }
   },
   "source": [
    "Между баллом за какие задачи самая высокая корреляция у Ангелов? В грейдер отправьте название колонок в порядке возрастания через запятую. __Например:__ `(\"k1a\", \"k1f\")`. "
   ]
  },
  {
   "cell_type": "code",
   "execution_count": 21,
   "metadata": {
    "deletable": false,
    "nbgrader": {
     "cell_type": "code",
     "checksum": "9256fca064648cb0aeb0899c71fc3d00",
     "grade": false,
     "grade_id": "cell-54809ad94755877b",
     "locked": false,
     "schema_version": 3,
     "solution": true,
     "task": false
    }
   },
   "outputs": [],
   "source": [
    "### ╰( ͡° ͜ʖ ͡° )つ▬▬ι═══════  bzzzzzzzzzz\n",
    "# will the code be with you\n",
    "\n",
    "names_angels = (\"k1b\", \"k1c\")\n",
    "names_demons = (\"k1e\", \"k1f\") \n",
    "\n",
    "# your code here\n"
   ]
  },
  {
   "cell_type": "code",
   "execution_count": 160,
   "metadata": {
    "deletable": false,
    "editable": false,
    "nbgrader": {
     "cell_type": "code",
     "checksum": "83f99c2c2c702de49dfa49337cea7f52",
     "grade": true,
     "grade_id": "cell-83cc8d8aa7540b23",
     "locked": true,
     "points": 1,
     "schema_version": 3,
     "solution": false,
     "task": false
    }
   },
   "outputs": [],
   "source": [
    "# проверка вашего ответа скрыта от вас"
   ]
  },
  {
   "cell_type": "markdown",
   "metadata": {
    "deletable": false,
    "editable": false,
    "nbgrader": {
     "cell_type": "markdown",
     "checksum": "7a7df45c4a71172c69544a9c20dcf790",
     "grade": false,
     "grade_id": "cell-c1c9ce54e1c34630",
     "locked": true,
     "schema_version": 3,
     "solution": false,
     "task": false
    }
   },
   "source": [
    "Как думаете, какие задачи было тяжелее всего списать? "
   ]
  },
  {
   "cell_type": "markdown",
   "metadata": {
    "deletable": false,
    "editable": false,
    "nbgrader": {
     "cell_type": "markdown",
     "checksum": "e6ab5253dba5643bd1bf843ac2058c6e",
     "grade": false,
     "grade_id": "cell-883157a3a5a40be9",
     "locked": true,
     "schema_version": 3,
     "solution": false,
     "task": false
    }
   },
   "source": [
    "__ё) Доля написавших третью контрольную.__\n",
    "\n",
    "Без буквы `ё` никуда, скажут нам [Пафнутий Чебышёв](https://ru.wikipedia.org/wiki/%D0%A7%D0%B5%D0%B1%D1%8B%D1%88%D1%91%D0%B2,_%D0%9F%D0%B0%D1%84%D0%BD%D1%83%D1%82%D0%B8%D0%B9_%D0%9B%D1%8C%D0%B2%D0%BE%D0%B2%D0%B8%D1%87) и [Лёв Толстой](https://arzamas.academy/special/ruslit/writers/tolstoy).  \n",
    "\n",
    "У студентов был выбор: писать или не писать третью контрольную. Если в колонке `k3` стоит $0$, значит студент не стал это делать. Постройте асимптотический $95\\%$-й доверительный интервал для разницы долей Ангелов и Демонов, которые решили писать третью контрольную. \n",
    "\n",
    "__Примечание:__ На практике, если мы пользуемся асимптотическими доверительными интервалами, мы можем искать границы двумя способами:\n",
    "\n",
    "* __Первый__ состоит в том, что мы оцениваем стандартное отклонение с помощью $\\sqrt{\\hat{p} \\cdot (1 - \\hat{p})} = \\sqrt{\\frac{1}{n} \\cdot \\sum_{i=1}^n (x_i - \\bar{x})^2}$. \n",
    "* __Второй способ__ состоит в том, чтобы оценить стандартное отклонение как  $\\sqrt{\\frac{1}{n-1} \\cdot \\sum_{i=1}^n (x_i - \\bar{x})^2}$. \n",
    "\n",
    "В плане асимптотики это не влияет на выводы, так как обе этих оценки состоятельно оценивают дисперсию. Можно пользоваться любым. Однако, чтобы с грейдером не было проблем и задание зачлось, воспользуйтесь первым способом. "
   ]
  },
  {
   "cell_type": "code",
   "execution_count": 22,
   "metadata": {
    "deletable": false,
    "nbgrader": {
     "cell_type": "code",
     "checksum": "04a67297c1a4265eb642c8657a9dc8c6",
     "grade": false,
     "grade_id": "cell-27c36da495c9f1b9",
     "locked": false,
     "schema_version": 3,
     "solution": true,
     "task": false
    }
   },
   "outputs": [
    {
     "name": "stdout",
     "output_type": "stream",
     "text": [
      "Доверительный интервал [-0.1885; 0.03341] ширины 0.2219\n"
     ]
    }
   ],
   "source": [
    "### ╰( ͡° ͜ʖ ͡° )つ▬▬ι═══════  bzzzzzzzzzz\n",
    "# will the code be with you\n",
    "\n",
    "angels2=df[(df.fraud == 0.0) & (df.k3 >0)].k3.values # Ангелы, которые решили писать третью контрольную\n",
    "demons2=df[(df.fraud > 0.0) & (df.k3 >0)].k3.values  # Демоны, которые решили писать третью контрольную\n",
    "\n",
    "p_angels=angels2.size/angels.size # доля Ангелов, которые решили писать третью контрольную\n",
    "p_demons=demons2.size/demons.size # доля Демонов, которые решили писать третью контрольную\n",
    "\n",
    "diff = p_angels-p_demons \n",
    "diff_sd = np.sqrt(p_angels*(1-p_angels)/angels.size+p_demons*(1-p_demons)/demons.size)\n",
    "\n",
    "alpha = 0.05\n",
    "z_crit = stats.norm().ppf(1 - alpha/2)\n",
    "\n",
    "left =  diff - z_crit*diff_sd     # левая граница интервала\n",
    "right = diff + z_crit*diff_sd     # правая граница интервала\n",
    "delta = right - left              # ширина интервала\n",
    "\n",
    "print(\"Доверительный интервал [{:.4}; {:.4}] ширины {:.4}\".format(left, right, delta))\n",
    "\n",
    "# your code here\n"
   ]
  },
  {
   "cell_type": "code",
   "execution_count": 23,
   "metadata": {
    "deletable": false,
    "editable": false,
    "nbgrader": {
     "cell_type": "code",
     "checksum": "a2f3f3298bd64ba91c05198dca9dd9f2",
     "grade": true,
     "grade_id": "cell-8e20dc8eae1d7215",
     "locked": true,
     "points": 1,
     "schema_version": 3,
     "solution": false,
     "task": false
    }
   },
   "outputs": [],
   "source": [
    "# проверка, что границы доверительного интервала найдены верно\n",
    "assert np.abs(left + 0.1885) < 1e-3\n",
    "\n",
    "# похожие тесты на другие части задания скрыты от вас\n"
   ]
  },
  {
   "cell_type": "markdown",
   "metadata": {
    "deletable": false,
    "editable": false,
    "nbgrader": {
     "cell_type": "markdown",
     "checksum": "305582da29ec7a31d2f90c0f06fb9651",
     "grade": false,
     "grade_id": "cell-e474bad5c9133fa8",
     "locked": true,
     "schema_version": 3,
     "solution": false,
     "task": false
    }
   },
   "source": [
    "Входит ли в доверительный интервал ноль? Как думаете, что это означает? "
   ]
  },
  {
   "cell_type": "markdown",
   "metadata": {},
   "source": [
    "__Ноль входит в данный интервал. Следовательно, гипотеза о равенстве долей Ангелов и Демонов, которые решили писать третью контрольную, не отвергается.__"
   ]
  },
  {
   "cell_type": "markdown",
   "metadata": {
    "deletable": false,
    "editable": false,
    "nbgrader": {
     "cell_type": "markdown",
     "checksum": "f343edf4525061e5c847237f0f647f8e",
     "grade": false,
     "grade_id": "cell-0e6bd521a8522d4b",
     "locked": true,
     "schema_version": 3,
     "solution": false,
     "task": false
    }
   },
   "source": [
    "__ж) Снова разница средних__ \n",
    "\n",
    "Посмотрим на результаты студентов в динамике. Постройте точный $95\\%$ доверительный интервал для средней разницы оценок за первую и вторую контрольные. Пропуски в данных заполните нулями. "
   ]
  },
  {
   "cell_type": "code",
   "execution_count": 24,
   "metadata": {
    "deletable": false,
    "nbgrader": {
     "cell_type": "code",
     "checksum": "00506bb1365beb2e76ed5c4f0d126019",
     "grade": false,
     "grade_id": "cell-0781fc2725266cb8",
     "locked": false,
     "schema_version": 3,
     "solution": true,
     "task": false
    }
   },
   "outputs": [
    {
     "name": "stdout",
     "output_type": "stream",
     "text": [
      "Доверительный интервал [-1.456; -0.7072] ширины 0.7491\n"
     ]
    }
   ],
   "source": [
    "### ╰( ͡° ͜ʖ ͡° )つ▬▬ι═══════  bzzzzzzzzzz\n",
    "# will the code be with you\n",
    "\n",
    "x=(df.k2.fillna(0)-df.k1.fillna(0)).values\n",
    "\n",
    "alpha = 0.05\n",
    "# левая граница интервала\n",
    "left = x.mean() - stats.t(x.size - 1).ppf(1 - alpha/2)*np.sqrt(x.var(ddof=1)/x.size)\n",
    "# правая граница интервала\n",
    "right = x.mean() + stats.t(x.size - 1).ppf(1 - alpha/2)*np.sqrt(x.var(ddof=1)/x.size)\n",
    "# ширина интервала\n",
    "delta = right - left\n",
    "\n",
    "print(\"Доверительный интервал [{:.4}; {:.4}] ширины {:.4}\".format(left, right, delta))\n",
    "\n",
    "# your code here\n"
   ]
  },
  {
   "cell_type": "code",
   "execution_count": 25,
   "metadata": {
    "deletable": false,
    "editable": false,
    "nbgrader": {
     "cell_type": "code",
     "checksum": "e83675f27e578b2b047e25e1f75c7bd4",
     "grade": true,
     "grade_id": "cell-ca8717f63e57ee77",
     "locked": true,
     "points": 1,
     "schema_version": 3,
     "solution": false,
     "task": false
    }
   },
   "outputs": [],
   "source": [
    "# проверка, что границы доверительного интервала найдены верно\n",
    "assert np.abs(left + 1.4562881732820103) < 1e-5\n",
    "\n",
    "# похожие тесты на другие части задания скрыты от вас\n"
   ]
  },
  {
   "cell_type": "markdown",
   "metadata": {
    "deletable": false,
    "editable": false,
    "nbgrader": {
     "cell_type": "markdown",
     "checksum": "9e70820055d9cf699f61b64bdee48755",
     "grade": false,
     "grade_id": "cell-d60ae7faf8d2aa78",
     "locked": true,
     "schema_version": 3,
     "solution": false,
     "task": false
    }
   },
   "source": [
    "Входит ли в доверительный интервал ноль? Как думаете, что это означает? "
   ]
  },
  {
   "cell_type": "markdown",
   "metadata": {},
   "source": [
    "__Ноль не входит в данный интервал. Следовательно, первую контрольную студенты написали в среднем, лучше чем вторую.__"
   ]
  },
  {
   "cell_type": "markdown",
   "metadata": {
    "deletable": false,
    "editable": false,
    "nbgrader": {
     "cell_type": "markdown",
     "checksum": "077635f824d87fa65f1974a77ad1e58f",
     "grade": false,
     "grade_id": "cell-701c121e9d85cfbe",
     "locked": true,
     "schema_version": 3,
     "solution": false,
     "task": false
    }
   },
   "source": [
    "Это домашка подошла к концу. Поздравляю! Теперь вы умеете строить точные доверительные интервалы для нормальных выборок."
   ]
  }
 ],
 "metadata": {
  "kernelspec": {
   "display_name": "Python 3",
   "language": "python",
   "name": "python3"
  },
  "language_info": {
   "codemirror_mode": {
    "name": "ipython",
    "version": 3
   },
   "file_extension": ".py",
   "mimetype": "text/x-python",
   "name": "python",
   "nbconvert_exporter": "python",
   "pygments_lexer": "ipython3",
   "version": "3.8.3"
  }
 },
 "nbformat": 4,
 "nbformat_minor": 2
}
