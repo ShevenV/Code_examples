{
 "cells": [
  {
   "cell_type": "markdown",
   "metadata": {},
   "source": [
    "<center>\n",
    "<img src=\"logo.png\" height=\"900\"> \n",
    "</center>\n",
    "\n",
    "\n",
    "#  Гипотеза о равенстве средних\n",
    "\n",
    "В этом задании мы попробуем сравнить между собой мощность двух процедур для проверки гипотезы о равенстве средних. __Это задание не является обязательным. Его можно не решать.__ \n",
    "\n",
    "-----------"
   ]
  },
  {
   "cell_type": "code",
   "execution_count": 1,
   "metadata": {},
   "outputs": [],
   "source": [
    "import numpy as np\n",
    "import pandas as pd\n",
    "import seaborn as sns\n",
    "import matplotlib.pyplot as plt\n",
    "from scipy import stats\n",
    "\n",
    "plt.style.use('ggplot')\n",
    "%matplotlib inline"
   ]
  },
  {
   "cell_type": "markdown",
   "metadata": {},
   "source": [
    "Поговорим про мощность различных процедур. Мы с вами обсудили, что гипотезу о равенстве средних можно проверить с помощью следующей процедуры. \n",
    "\n",
    "### Процедура 1:\n",
    "\n",
    "1. Собираем выборки $X_1, \\ldots, X_n$ и $Y_1, \\ldots, Y_n$;\n",
    "2. Находим значение статистики\n",
    "\n",
    "$$\n",
    "z_{obs} = \\frac{\\bar x - \\bar y}{\\sqrt{\\frac{s_x^2}{n_x} + \\frac{s_y^2}{n_y}}};\n",
    "$$\n",
    "\n",
    "3. Говорим, что по ЦПТ $z_{obs} \\overset{asy}{\\sim} N(0,1);$\n",
    "4. Находим критическое значение $z_{1 - \\frac{\\alpha}{2}}$;\n",
    "5. Если мы видим, что $|z_{obs}| <  z_{1 - \\frac{\\alpha}{2}}$, мы говорим, что гипотеза не отвергается. \n",
    "\n"
   ]
  },
  {
   "cell_type": "markdown",
   "metadata": {},
   "source": [
    "Ту же саму гипотезу можно попробовать проверить с помощью другого алгоритма, основанного на доверительных интервалах.\n",
    "\n",
    "### Процедура 2: \n",
    "\n",
    "1. Собираем выборки $X_1, \\ldots, X_n$ и $Y_1, \\ldots, Y_n$;\n",
    "2. Находим $\\bar x$ и $\\bar y$;\n",
    "3. Пользуясь ЦПТ и зная, что $\\bar x \\overset{asy}{\\sim} N \\left(\\mu_1,\\frac{s^2_x}{n_x} \\right)$ и $\\bar y \\overset{asy}{\\sim} N\\left(\\mu_2,\\frac{s^2_y}{n_y}\\right)$ строим для $\\mu_1$ и $\\mu_2$ доверительные интервалы;\n",
    "4. Если доверительные интервалы пересеклись, говорим, что гипотеза не отвергается. \n"
   ]
  },
  {
   "cell_type": "markdown",
   "metadata": {},
   "source": [
    "Вроде бы вторая процедура выглядит довольно естественно, однако ей никто не пользуется. Дело в том, что для одинаковых ошибок первого рода, $\\alpha$, ошибка второго рода, $\\beta$, для процедуры, основанной на доверительных интервалах, окажется выше. Задание состоит в том, чтобы это увидеть.\n",
    "\n",
    "> Для простоты будем дальше предполагать, что $\\bar x > \\bar y$. Также будем считать, что обе дисперсии известны и равны единице, $\\sigma^2_x = \\sigma^2_y = 1$. Объёмы выборок одинаковы, $n_x = n_y = n$."
   ]
  },
  {
   "cell_type": "markdown",
   "metadata": {},
   "source": [
    "__[а]__  Найдите мощность первой процедуры (единица минус ошибка второго рода). Запишите её через функцию распределения стандартной нормальной величины $\\Phi(x)$. Вбейте её в заглушку ниже."
   ]
  },
  {
   "cell_type": "code",
   "execution_count": 2,
   "metadata": {
    "deletable": false,
    "nbgrader": {
     "cell_type": "code",
     "checksum": "a654fb3bc043d74a014c36aafa8c2522",
     "grade": false,
     "grade_id": "cell-dd29bcf28c5bbb42",
     "locked": false,
     "schema_version": 3,
     "solution": true,
     "task": false
    }
   },
   "outputs": [],
   "source": [
    "### ╰( ͡° ͜ʖ ͡° )つ▬▬ι═══════  bzzzzzzzzzz\n",
    "# will the code be with you\n",
    "\n",
    "def power_1(n_obs, alpha=0.05, mu1=4, mu2=5, sigma=1):\n",
    "    \n",
    "    power = stats.norm().cdf((mu2-mu1)*np.sqrt(n_obs/(2*sigma))-stats.norm().ppf(1-alpha))+stats.norm().cdf((mu1-mu2)*np.sqrt(n_obs/(2*sigma))-stats.norm().ppf(1-alpha))\n",
    "    return power\n",
    "# your code here\n"
   ]
  },
  {
   "cell_type": "code",
   "execution_count": 3,
   "metadata": {
    "deletable": false,
    "editable": false,
    "nbgrader": {
     "cell_type": "code",
     "checksum": "d1fda583ab8cac966a4fb54d28804135",
     "grade": true,
     "grade_id": "cell-9a089f0c7a047ead",
     "locked": true,
     "points": 1,
     "schema_version": 3,
     "solution": false,
     "task": false
    }
   },
   "outputs": [],
   "source": [
    "# Ура ура ура все тесты открыты :) \n",
    "assert np.abs(power_1(100) - 0.99999) < 1e-4\n",
    "assert np.abs(power_1(10) - 0.72281) < 1e-4"
   ]
  },
  {
   "cell_type": "markdown",
   "metadata": {},
   "source": [
    "__[б]__ Выпишите доверительный интервал для $\\bar x$ и для $\\bar y$.  Правая граница интервала для $\\bar x$ должна оказаться правее левой границы для $\\bar y$. В таком случае гипотеза не отвергается. \n",
    "\n",
    "- Выпишите это неравенство. \n",
    "- Выразите из него значение $z_{1 - \\frac{\\alpha}{2}}$.\n",
    "- Сравните получившуюся статистку со статистикой из первого пункта. \n",
    "- Найдите для неё мощность, запишите её через функцию распределения стандартной нормальной величины, $\\Phi(x)$."
   ]
  },
  {
   "cell_type": "code",
   "execution_count": 6,
   "metadata": {
    "deletable": false,
    "nbgrader": {
     "cell_type": "code",
     "checksum": "847b7538f47e073481f4fe6767bbcaed",
     "grade": false,
     "grade_id": "cell-95e1c68560ce72f6",
     "locked": false,
     "schema_version": 3,
     "solution": true,
     "task": false
    }
   },
   "outputs": [],
   "source": [
    "### ╰( ͡° ͜ʖ ͡° )つ▬▬ι═══════  bzzzzzzzzzz\n",
    "# will the code be with you\n",
    "\n",
    "def power_2(n_obs, alpha=0.05, mu1=4, mu2=5, sigma=1):\n",
    "\n",
    "    return stats.norm().cdf((mu2-mu1)*np.sqrt(n_obs/(2*sigma))-stats.norm().ppf(1-alpha)*np.sqrt(2))+stats.norm().cdf((mu1-mu2)*np.sqrt(n_obs/(2*sigma))-stats.norm().ppf(1-alpha)*np.sqrt(2))\n",
    "\n",
    "# your code here\n"
   ]
  },
  {
   "cell_type": "code",
   "execution_count": 7,
   "metadata": {
    "deletable": false,
    "editable": false,
    "nbgrader": {
     "cell_type": "code",
     "checksum": "9d2f5060ff98c79acce78d94eb33d4c4",
     "grade": true,
     "grade_id": "cell-087864869f8bdd18",
     "locked": true,
     "points": 1,
     "schema_version": 3,
     "solution": false,
     "task": false
    }
   },
   "outputs": [],
   "source": [
    "# Ура ура ура все тесты открыты :) \n",
    "assert np.abs(power_2(100) - 0.99221) < 1e-4\n",
    "assert np.abs(power_2(10) - 0.00783) < 1e-4"
   ]
  },
  {
   "cell_type": "markdown",
   "metadata": {},
   "source": [
    "__[в]__  Постройте для получившихся функций графики, сравните их между собой. \n"
   ]
  },
  {
   "cell_type": "code",
   "execution_count": 8,
   "metadata": {
    "deletable": false,
    "nbgrader": {
     "cell_type": "code",
     "checksum": "9f7dc4c89b52b2402da96dd29bd94881",
     "grade": false,
     "grade_id": "cell-b4b13617e751a7bb",
     "locked": false,
     "schema_version": 3,
     "solution": true,
     "task": false
    }
   },
   "outputs": [
    {
     "data": {
      "image/png": "[encoded data removed]",
      "text/plain": [
       "<Figure size 720x360 with 1 Axes>"
      ]
     },
     "metadata": {
      "needs_background": "light"
     },
     "output_type": "display_data"
    }
   ],
   "source": [
    "### ╰( ͡° ͜ʖ ͡° )つ▬▬ι═══════  bzzzzzzzzzz\n",
    "# will the code be with you\n",
    "alpha=0.05\n",
    "mu1=4\n",
    "mu2=5\n",
    "sigma=1\n",
    "n_obs=np.arange(1,101)\n",
    "y1=stats.norm().cdf((mu2-mu1)*np.sqrt(n_obs/(2*sigma))-stats.norm().ppf(1-alpha))+stats.norm().cdf((mu1-mu2)*np.sqrt(n_obs/(2*sigma))-stats.norm().ppf(1-alpha))\n",
    "y2=stats.norm().cdf((mu2-mu1)*np.sqrt(n_obs/(2*sigma))-stats.norm().ppf(1-alpha)*np.sqrt(2))+stats.norm().cdf((mu1-mu2)*np.sqrt(n_obs/(2*sigma))-stats.norm().ppf(1-alpha)*np.sqrt(2))\n",
    "plt.figure(figsize = (10, 5))\n",
    "plt.plot(n_obs, y1, label='power_1');\n",
    "plt.plot(n_obs, y2, label='power_2');\n",
    "plt.xlabel('Размер выборки')\n",
    "plt.ylabel(\"Мощность\")\n",
    "plt.legend();\n",
    "# your code here\n"
   ]
  },
  {
   "cell_type": "markdown",
   "metadata": {},
   "source": [
    "__Из графика видно, что мощность первого метода всегда больше мощности второго метода.__"
   ]
  },
  {
   "cell_type": "markdown",
   "metadata": {},
   "source": [
    " "
   ]
  }
 ],
 "metadata": {
  "kernelspec": {
   "display_name": "Python 3",
   "language": "python",
   "name": "python3"
  },
  "language_info": {
   "codemirror_mode": {
    "name": "ipython",
    "version": 3
   },
   "file_extension": ".py",
   "mimetype": "text/x-python",
   "name": "python",
   "nbconvert_exporter": "python",
   "pygments_lexer": "ipython3",
   "version": "3.8.3"
  }
 },
 "nbformat": 4,
 "nbformat_minor": 2
}
